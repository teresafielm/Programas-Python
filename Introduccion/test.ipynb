import numpy as np 
arr = np.array([100, 2.7, 8.3333, 4, 0.5]) 
print(arr) 
print(type(arr))
[100.       2.7      8.3333   4.       0.5   ]
<class 'numpy.ndarray'>
